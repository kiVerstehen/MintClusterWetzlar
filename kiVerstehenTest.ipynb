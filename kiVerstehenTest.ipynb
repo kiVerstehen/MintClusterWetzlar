{
 "cells": [
  {
   "cell_type": "code",
   "execution_count": 3,
   "id": "ce16aa79-c414-41f6-b9bd-fb9c5881d557",
   "metadata": {},
   "outputs": [
    {
     "data": {
      "application/vnd.jupyter.widget-view+json": {
       "model_id": "57c03121868b4bed88d9973e350654cd",
       "version_major": 2,
       "version_minor": 0
      },
      "text/plain": [
       "interactive(children=(FloatSlider(value=45.75276260306132, description='y_achsenabschnitt', max=50.0, min=10.0…"
      ]
     },
     "metadata": {},
     "output_type": "display_data"
    }
   ],
   "source": [
    "import random\n",
    "import matplotlib.pyplot as plt\n",
    "import matplotlib.font_manager as fm\n",
    "from ipywidgets import interactive, widgets\n",
    "from IPython.display import display, clear_output\n",
    "import matplotlib.image as mpimg\n",
    "import numpy as np\n",
    "\n",
    "def hundOderKatzeAnhandGewicht():\n",
    "    \n",
    "    font_path = \"/usr/share/fonts/truetype/ancient-scripts/Symbola.ttf\"  # anpassen!\n",
    "    emoji_font = fm.FontProperties(fname=font_path)\n",
    "    \n",
    "    # Daten\n",
    "    cat_heights = [20, 24, 31, 44, 50]\n",
    "    cat_weights = [30, 20, 15, 25, 30]\n",
    "\n",
    "    dog_heights = [18, 30, 35, 60, 45]\n",
    "    dog_weights = [37, 27, 35, 30, 38]\n",
    "\n",
    "\n",
    "    def plot_counting(y_achsenabschnitt=0.0):\n",
    "        clear_output(wait=True)\n",
    "        fig, ax = plt.subplots()\n",
    "\n",
    "        for i in range(len(cat_heights)):\n",
    "            if cat_weights[i] > y_achsenabschnitt:\n",
    "                emoji = '😿'  # misclassified cat\n",
    "            else:\n",
    "                emoji = '😸'  # correct cat😺\n",
    "            ax.text(cat_heights[i], cat_weights[i], emoji, fontsize=35, ha='center')\n",
    "        \n",
    "        for i in range(len(dog_heights)):\n",
    "            if dog_weights[i] < y_achsenabschnitt:\n",
    "                emoji = '🐺'  # misclassified dog\n",
    "            else:\n",
    "                emoji = '🐶'  # correct dog\n",
    "            ax.text(dog_heights[i], dog_weights[i], emoji, fontsize=35, ha='center')\n",
    "\n",
    "\n",
    "        # Draw decision boundary\n",
    "        x_vals = np.linspace(10, 70, 100)\n",
    "        y_vals = y_achsenabschnitt + 0 * x_vals\n",
    "        ax.plot(x_vals, y_vals, '--', color='red', label=f'Grenze bei {y_achsenabschnitt:.2f} kg')\n",
    "\n",
    "        ax.set_xlim(10, 68)\n",
    "        ax.set_ylim(12, 42)\n",
    "        ax.set_xlabel('Größe (cm)')\n",
    "        ax.set_ylabel('Gewicht (kg)')\n",
    "        ax.legend()\n",
    "\n",
    "        plt.show()\n",
    "\n",
    "    randomY = random.uniform(10, 50)\n",
    "    w = interactive(plot_counting, y_achsenabschnitt=widgets.FloatSlider(min=10, max=50, step=0.05, value=randomY))\n",
    "    display(w)\n",
    "\n",
    "hundOderKatzeAnhandGewicht()\n"
   ]
  },
  {
   "cell_type": "code",
   "execution_count": null,
   "id": "279ad772-21b6-47fc-b9cd-a15ff2354fc6",
   "metadata": {},
   "outputs": [],
   "source": []
  }
 ],
 "metadata": {
  "kernelspec": {
   "display_name": "Python 3 (ipykernel)",
   "language": "python",
   "name": "python3"
  },
  "language_info": {
   "codemirror_mode": {
    "name": "ipython",
    "version": 3
   },
   "file_extension": ".py",
   "mimetype": "text/x-python",
   "name": "python",
   "nbconvert_exporter": "python",
   "pygments_lexer": "ipython3",
   "version": "3.12.3"
  }
 },
 "nbformat": 4,
 "nbformat_minor": 5
}
