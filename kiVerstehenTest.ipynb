{
 "cells": [
  {
   "cell_type": "code",
   "execution_count": 1,
   "id": "ce16aa79-c414-41f6-b9bd-fb9c5881d557",
   "metadata": {},
   "outputs": [
    {
     "data": {
      "application/vnd.jupyter.widget-view+json": {
       "model_id": "7ddfbd647d1849e2ab5e82edd22234f8",
       "version_major": 2,
       "version_minor": 0
      },
      "text/plain": [
       "interactive(children=(FloatSlider(value=35.57707193831535, description='y_achsenabschnitt', max=50.0, min=10.0…"
      ]
     },
     "metadata": {},
     "output_type": "display_data"
    }
   ],
   "source": [
    "import kiVerstehen\n",
    "kiVerstehen.hundOderKatzeAnhandGewicht()"
   ]
  },
  {
   "cell_type": "code",
   "execution_count": null,
   "id": "66ffb856-59f5-493d-8ba9-514859ffd035",
   "metadata": {},
   "outputs": [],
   "source": []
  }
 ],
 "metadata": {
  "kernelspec": {
   "display_name": "Python 3 (ipykernel)",
   "language": "python",
   "name": "python3"
  },
  "language_info": {
   "codemirror_mode": {
    "name": "ipython",
    "version": 3
   },
   "file_extension": ".py",
   "mimetype": "text/x-python",
   "name": "python",
   "nbconvert_exporter": "python",
   "pygments_lexer": "ipython3",
   "version": "3.12.3"
  }
 },
 "nbformat": 4,
 "nbformat_minor": 5
}
